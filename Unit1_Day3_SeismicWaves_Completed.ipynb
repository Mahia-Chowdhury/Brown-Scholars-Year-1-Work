{
  "nbformat": 4,
  "nbformat_minor": 0,
  "metadata": {
    "kernelspec": {
      "display_name": "Python 3",
      "language": "python",
      "name": "python3"
    },
    "language_info": {
      "codemirror_mode": {
        "name": "ipython",
        "version": 3
      },
      "file_extension": ".py",
      "mimetype": "text/x-python",
      "name": "python",
      "nbconvert_exporter": "python",
      "pygments_lexer": "ipython3",
      "version": "3.7.6"
    },
    "colab": {
      "name": "Unit1_Day3_SeismicWaves_Completed.ipynb",
      "provenance": []
    }
  },
  "cells": [
    {
      "cell_type": "markdown",
      "metadata": {
        "id": "p0yHldLtF6ZG",
        "colab_type": "text"
      },
      "source": [
        "# Exploring Seismic Waves\n",
        "\n",
        "In this notebook you'll use your coding skills to explore S and P seismic waves, make another graph, and learn more about importing libraries.\n",
        "\n",
        "**Reminder: To run the code in a Jupyter Notebook cell, click inside the cell and press \"shift\" and \"return\" on your keyboard at the same time.**"
      ]
    },
    {
      "cell_type": "markdown",
      "metadata": {
        "collapsed": true,
        "id": "F9p5gtcBF6ZI",
        "colab_type": "text"
      },
      "source": [
        "We will use two libraries in this Notebook, matplotlib.pyplot and numpy. Run the cell below to import the libraries.\n"
      ]
    },
    {
      "cell_type": "code",
      "metadata": {
        "id": "NIUAty2gF6ZJ",
        "colab_type": "code",
        "colab": {}
      },
      "source": [
        "import matplotlib.pyplot as plt\n",
        "import numpy as np\n",
        "\n",
        "# Note: It's generally a good idea to import any libraries you'll need at the top of your program \n",
        "# so that you can use them in all of your code and you don't have to remember to import them later"
      ],
      "execution_count": null,
      "outputs": []
    },
    {
      "cell_type": "markdown",
      "metadata": {
        "id": "vf-ncSlMF6ZV",
        "colab_type": "text"
      },
      "source": [
        "**We will be working with data from a dataset of P and S wave records at different seismometer stations after a 6.70 magnitude earthquake in California in 1994.\n",
        "The earthquake occured at 12:30 AM on January 17th, 1994**"
      ]
    },
    {
      "cell_type": "markdown",
      "metadata": {
        "id": "0MP1mNLnF6ZX",
        "colab_type": "text"
      },
      "source": [
        "We'll need three lists for this analysis:\n",
        "1. The distance in km that each seismometer was from the focus\n",
        "2. The time in seconds that it took for each seismometer to detect a P wave\n",
        "3. The time in seconds that it took for each seismometer to detect an S wave"
      ]
    },
    {
      "cell_type": "code",
      "metadata": {
        "id": "jpTs71l4F6ZY",
        "colab_type": "code",
        "colab": {}
      },
      "source": [
        "distance = [2.18, 1.39, 1.79, 0.31, 1.0, 1.2, 1.06, 0.18, 0.35]\n",
        "p_times = [35, 25, 30, 7, 19, 22, 20, 2, 7]\n",
        "s_times = [68, 43, 57, 12, 32, 38, 34, 4, 9]"
      ],
      "execution_count": null,
      "outputs": []
    },
    {
      "cell_type": "markdown",
      "metadata": {
        "id": "4hr6PtyYF6Zb",
        "colab_type": "text"
      },
      "source": [
        "Before we make a graph, let's find the average amount of time it took for a seismometer to detect P waves vs S waves. \n",
        "\n",
        "You could use the sum() and len() function like before, but the numpy library has a built in average function called np.mean(). \n",
        "\n",
        "Try printing out the mean of each list of times:"
      ]
    },
    {
      "cell_type": "code",
      "metadata": {
        "id": "fEFEsWJCF6Zc",
        "colab_type": "code",
        "colab": {},
        "outputId": "4f0a7885-5110-4ca5-a1f0-cdc6d1586d69"
      },
      "source": [
        "# Use the np.mean() function\n",
        "print(np.mean(p_times))\n",
        "print(np.mean(s_times))"
      ],
      "execution_count": null,
      "outputs": [
        {
          "output_type": "stream",
          "text": [
            "18.5555555556\n",
            "33.0\n"
          ],
          "name": "stdout"
        }
      ]
    },
    {
      "cell_type": "markdown",
      "metadata": {
        "id": "vX_IEKENF6Zg",
        "colab_type": "text"
      },
      "source": [
        "Is this what you expect? Write a conditional that compares the two averages and prints out which kind of seismic wave travels faster:"
      ]
    },
    {
      "cell_type": "code",
      "metadata": {
        "id": "iI2ZQ1BoF6Zh",
        "colab_type": "code",
        "colab": {},
        "outputId": "d5b76b01-8a83-499b-ce51-21014c6f2afb"
      },
      "source": [
        "avg_p = np.mean(p_times)\n",
        "avg_s = np.mean(s_times)\n",
        "\n",
        "if avg_p < avg_s:\n",
        "    print(\"P waves travel faster than S waves\")\n",
        "elif avg_p > avg_s:\n",
        "    print(\"S waves travel faster than P waves\")\n",
        "else:\n",
        "    print(\"S and P waves travel at the same rate\")"
      ],
      "execution_count": null,
      "outputs": [
        {
          "output_type": "stream",
          "text": [
            "P waves travel faster than S waves\n"
          ],
          "name": "stdout"
        }
      ]
    },
    {
      "cell_type": "markdown",
      "metadata": {
        "id": "jf1iqj1FF6Zl",
        "colab_type": "text"
      },
      "source": [
        "Now, let's use the matplotlib.pyplot library to make a graph! You will need to use the following functions:\n",
        "- plt.scatter(x data list, y data list) - Makes a scatter plot\n",
        "- plt.title(\"Graph title\") - Adds a title\n",
        "- plt.xlabel(\"x axis label\") - Adds an x axis label\n",
        "- plt.ylabel(\"y axis label\") - Adds a y axis label\n",
        "- plt.show() - Always goes last. Shows all the graphs in one plot"
      ]
    },
    {
      "cell_type": "code",
      "metadata": {
        "id": "Sf7tCjNjF6Zm",
        "colab_type": "code",
        "colab": {},
        "outputId": "32cfcd32-42f1-490e-b988-c14b024d0c88"
      },
      "source": [
        "# You will need to use the plt.scatter() function twice, once for the P wave data and once for the S wave data\n",
        "# This will make plots that both appear on the same graph\n",
        "\n",
        "plt.scatter(distance, p_times, label = \"P waves\")\n",
        "plt.scatter(distance, s_times, label = \"S waves\")\n",
        "plt.title(\"Arrival time of S and P waves\")\n",
        "plt.xlabel(\"Distance from focus (km)\")\n",
        "plt.ylabel(\"Arrival time (sec)\")\n",
        "plt.legend()\n",
        "plt.show()"
      ],
      "execution_count": null,
      "outputs": [
        {
          "output_type": "display_data",
          "data": {
            "image/png": "[encoded data removed]",
            "text/plain": [
              "<matplotlib.figure.Figure at 0x11ee470f0>"
            ]
          },
          "metadata": {
            "tags": []
          }
        }
      ]
    }
  ]
}