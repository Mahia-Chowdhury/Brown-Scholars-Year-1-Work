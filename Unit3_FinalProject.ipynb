{
  "nbformat": 4,
  "nbformat_minor": 0,
  "metadata": {
    "kernelspec": {
      "display_name": "Python 3",
      "language": "python",
      "name": "python3"
    },
    "language_info": {
      "codemirror_mode": {
        "name": "ipython",
        "version": 3
      },
      "file_extension": ".py",
      "mimetype": "text/x-python",
      "name": "python",
      "nbconvert_exporter": "python",
      "pygments_lexer": "ipython3",
      "version": "3.7.6"
    },
    "colab": {
      "name": "Unit3_FinalProject.ipynb",
      "provenance": [],
      "collapsed_sections": [],
      "toc_visible": true
    }
  },
  "cells": [
    {
      "cell_type": "markdown",
      "metadata": {
        "id": "-aDkg8IYpfxS",
        "colab_type": "text"
      },
      "source": [
        "# Making a CMD for your Star Cluster\n",
        "\n",
        "This notebook introduces a few commands that you'll need to make the Color Magnitude Diagram for your star cluster. You can also use the cells below to write code for your unit project."
      ]
    },
    {
      "cell_type": "markdown",
      "metadata": {
        "id": "cdlCFoIYpfxT",
        "colab_type": "text"
      },
      "source": [
        "## .loc[ ] indexing"
      ]
    },
    {
      "cell_type": "code",
      "metadata": {
        "id": "CcUJ8BQFpfxU",
        "colab_type": "code",
        "colab": {}
      },
      "source": [
        "import pandas as pd"
      ],
      "execution_count": 9,
      "outputs": []
    },
    {
      "cell_type": "code",
      "metadata": {
        "id": "1Wo4VNL8pfxX",
        "colab_type": "code",
        "colab": {
          "base_uri": "https://localhost:8080/",
          "height": 266
        },
        "outputId": "24eb5ae7-6b8d-45b1-af6a-7e0a71f7b2de"
      },
      "source": [
        "# Here we create a sample dataframe\n",
        "sample_df = pd.DataFrame({\"Smartphone\": [\"iPhone 11\", \"Samsung Galaxy S20\", \"Google Pixel 4\", \"LG V60\", \"Nokia 9\", \"Sony Xperia 1\", \"iPhone SE\"], \"Price\": [700,1000,800,700,450,1000,399]})\n",
        "sample_df"
      ],
      "execution_count": 10,
      "outputs": [
        {
          "output_type": "execute_result",
          "data": {
            "text/html": [
              "<div>\n",
              "<style scoped>\n",
              "    .dataframe tbody tr th:only-of-type {\n",
              "        vertical-align: middle;\n",
              "    }\n",
              "\n",
              "    .dataframe tbody tr th {\n",
              "        vertical-align: top;\n",
              "    }\n",
              "\n",
              "    .dataframe thead th {\n",
              "        text-align: right;\n",
              "    }\n",
              "</style>\n",
              "<table border=\"1\" class=\"dataframe\">\n",
              "  <thead>\n",
              "    <tr style=\"text-align: right;\">\n",
              "      <th></th>\n",
              "      <th>Smartphone</th>\n",
              "      <th>Price</th>\n",
              "    </tr>\n",
              "  </thead>\n",
              "  <tbody>\n",
              "    <tr>\n",
              "      <th>0</th>\n",
              "      <td>iPhone 11</td>\n",
              "      <td>700</td>\n",
              "    </tr>\n",
              "    <tr>\n",
              "      <th>1</th>\n",
              "      <td>Samsung Galaxy S20</td>\n",
              "      <td>1000</td>\n",
              "    </tr>\n",
              "    <tr>\n",
              "      <th>2</th>\n",
              "      <td>Google Pixel 4</td>\n",
              "      <td>800</td>\n",
              "    </tr>\n",
              "    <tr>\n",
              "      <th>3</th>\n",
              "      <td>LG V60</td>\n",
              "      <td>700</td>\n",
              "    </tr>\n",
              "    <tr>\n",
              "      <th>4</th>\n",
              "      <td>Nokia 9</td>\n",
              "      <td>450</td>\n",
              "    </tr>\n",
              "    <tr>\n",
              "      <th>5</th>\n",
              "      <td>Sony Xperia 1</td>\n",
              "      <td>1000</td>\n",
              "    </tr>\n",
              "    <tr>\n",
              "      <th>6</th>\n",
              "      <td>iPhone SE</td>\n",
              "      <td>399</td>\n",
              "    </tr>\n",
              "  </tbody>\n",
              "</table>\n",
              "</div>"
            ],
            "text/plain": [
              "           Smartphone  Price\n",
              "0           iPhone 11    700\n",
              "1  Samsung Galaxy S20   1000\n",
              "2      Google Pixel 4    800\n",
              "3              LG V60    700\n",
              "4             Nokia 9    450\n",
              "5       Sony Xperia 1   1000\n",
              "6           iPhone SE    399"
            ]
          },
          "metadata": {
            "tags": []
          },
          "execution_count": 10
        }
      ]
    },
    {
      "cell_type": "markdown",
      "metadata": {
        "id": "MPN4-t4upfxa",
        "colab_type": "text"
      },
      "source": [
        "You can use the .loc index method to select all the items in one column which have a particular value in the second column. For example, we may want to select all items from the \"Smartphone\" column that have a value of 700 in the \"Price\" column.\n",
        "\n",
        "\n",
        "Follow along with the **live coding activity** to see how this works."
      ]
    },
    {
      "cell_type": "code",
      "metadata": {
        "id": "fu9h0yPKpfxb",
        "colab_type": "code",
        "colab": {
          "base_uri": "https://localhost:8080/",
          "height": 68
        },
        "outputId": "2fc0346d-aa05-411d-f466-fb885e2fdefb"
      },
      "source": [
        "# This code selects all values from the first column, \"Smartphone\" where the value on that same row in the second column, \"Price\" is equal to 700\n",
        "sample_df[\"Smartphone\"].loc[sample_df[\"Price\"]== 700]\n"
      ],
      "execution_count": 11,
      "outputs": [
        {
          "output_type": "execute_result",
          "data": {
            "text/plain": [
              "0    iPhone 11\n",
              "3       LG V60\n",
              "Name: Smartphone, dtype: object"
            ]
          },
          "metadata": {
            "tags": []
          },
          "execution_count": 11
        }
      ]
    },
    {
      "cell_type": "markdown",
      "metadata": {
        "id": "CIYEkA3Wpfxd",
        "colab_type": "text"
      },
      "source": [
        "Now you try! Let's say you want to view some more expensive phones. Select all the values from the \"Smartphone\" column where the value on that same row in the \"Price\" column is equal to 1000."
      ]
    },
    {
      "cell_type": "code",
      "metadata": {
        "id": "O0PvGdTNpfxd",
        "colab_type": "code",
        "colab": {
          "base_uri": "https://localhost:8080/",
          "height": 68
        },
        "outputId": "6eb498be-a208-4793-af28-1dc852cddffe"
      },
      "source": [
        "sample_df[\"Smartphone\"].loc[sample_df[\"Price\"]== 1000]"
      ],
      "execution_count": 12,
      "outputs": [
        {
          "output_type": "execute_result",
          "data": {
            "text/plain": [
              "1    Samsung Galaxy S20\n",
              "5         Sony Xperia 1\n",
              "Name: Smartphone, dtype: object"
            ]
          },
          "metadata": {
            "tags": []
          },
          "execution_count": 12
        }
      ]
    },
    {
      "cell_type": "markdown",
      "metadata": {
        "id": "jzvDK1QEpfxg",
        "colab_type": "text"
      },
      "source": [
        "Let's say you definitely want an iPhone of some sort, but you want to see just iPhone prices. Now select all the values from the \"Price\" column where the value on that same row in the \"Smartphone\" column contains the word \"iPhone\"."
      ]
    },
    {
      "cell_type": "code",
      "metadata": {
        "id": "bqiRqwcXpfxg",
        "colab_type": "code",
        "colab": {
          "base_uri": "https://localhost:8080/",
          "height": 68
        },
        "outputId": "63978130-dde9-4b36-de49-fa2d091f05db"
      },
      "source": [
        "sample_df[\"Price\"].loc[sample_df[\"Smartphone\"].str.contains(\"iPhone\")]"
      ],
      "execution_count": 13,
      "outputs": [
        {
          "output_type": "execute_result",
          "data": {
            "text/plain": [
              "0    700\n",
              "6    399\n",
              "Name: Price, dtype: int64"
            ]
          },
          "metadata": {
            "tags": []
          },
          "execution_count": 13
        }
      ]
    },
    {
      "cell_type": "markdown",
      "metadata": {
        "id": "uMfMtB_zpr3h",
        "colab_type": "text"
      },
      "source": [
        "Let's say you're on a budget and don't want to spend more than $700 on a phone. Select all the values from the \"Smartphone\" column where the value on that same row in the \"Price\" column is less than or equal to 700."
      ]
    },
    {
      "cell_type": "code",
      "metadata": {
        "id": "7TGx3Hxopq8Z",
        "colab_type": "code",
        "colab": {
          "base_uri": "https://localhost:8080/",
          "height": 173
        },
        "outputId": "50fe961a-76df-4bac-c85e-d399949491ec"
      },
      "source": [
        "sample_df[[\"Smartphone\",\"Price\"]].loc[sample_df[\"Price\"] <= 700]"
      ],
      "execution_count": 14,
      "outputs": [
        {
          "output_type": "execute_result",
          "data": {
            "text/html": [
              "<div>\n",
              "<style scoped>\n",
              "    .dataframe tbody tr th:only-of-type {\n",
              "        vertical-align: middle;\n",
              "    }\n",
              "\n",
              "    .dataframe tbody tr th {\n",
              "        vertical-align: top;\n",
              "    }\n",
              "\n",
              "    .dataframe thead th {\n",
              "        text-align: right;\n",
              "    }\n",
              "</style>\n",
              "<table border=\"1\" class=\"dataframe\">\n",
              "  <thead>\n",
              "    <tr style=\"text-align: right;\">\n",
              "      <th></th>\n",
              "      <th>Smartphone</th>\n",
              "      <th>Price</th>\n",
              "    </tr>\n",
              "  </thead>\n",
              "  <tbody>\n",
              "    <tr>\n",
              "      <th>0</th>\n",
              "      <td>iPhone 11</td>\n",
              "      <td>700</td>\n",
              "    </tr>\n",
              "    <tr>\n",
              "      <th>3</th>\n",
              "      <td>LG V60</td>\n",
              "      <td>700</td>\n",
              "    </tr>\n",
              "    <tr>\n",
              "      <th>4</th>\n",
              "      <td>Nokia 9</td>\n",
              "      <td>450</td>\n",
              "    </tr>\n",
              "    <tr>\n",
              "      <th>6</th>\n",
              "      <td>iPhone SE</td>\n",
              "      <td>399</td>\n",
              "    </tr>\n",
              "  </tbody>\n",
              "</table>\n",
              "</div>"
            ],
            "text/plain": [
              "  Smartphone  Price\n",
              "0  iPhone 11    700\n",
              "3     LG V60    700\n",
              "4    Nokia 9    450\n",
              "6  iPhone SE    399"
            ]
          },
          "metadata": {
            "tags": []
          },
          "execution_count": 14
        }
      ]
    },
    {
      "cell_type": "markdown",
      "metadata": {
        "id": "utqMyj5_pfxj",
        "colab_type": "text"
      },
      "source": [
        "#### Note: You can store these selected values in a variable, just like you've done with entire columns!"
      ]
    },
    {
      "cell_type": "markdown",
      "metadata": {
        "id": "GP9SqxKvpfxj",
        "colab_type": "text"
      },
      "source": [
        "## Finding absolute magnitude"
      ]
    },
    {
      "cell_type": "markdown",
      "metadata": {
        "id": "JjPICJkepfxj",
        "colab_type": "text"
      },
      "source": [
        "You will need to convert \"G\" to absolute magnitude for your CMD.\n",
        "\n",
        "Look in the dataset for distance. Using G and distance, you can calculate absolute magnitude using the following equation:\n",
        "\n",
        "absolute magnitude = G - 5 * log(distance) + 5"
      ]
    },
    {
      "cell_type": "code",
      "metadata": {
        "id": "7xrdzzqdpfxk",
        "colab_type": "code",
        "colab": {}
      },
      "source": [
        "# You will need to import numpy \n",
        "import numpy as np\n",
        "df = pd.read_csv(\"/content/drive/My Drive/Colab Notebooks/week 3/oh_table.csv\")\n",
        "df_gdi = df.loc[df[\"group_id\"]== 0]"
      ],
      "execution_count": 15,
      "outputs": []
    },
    {
      "cell_type": "code",
      "metadata": {
        "id": "PCj22vGbKyNu",
        "colab_type": "code",
        "colab": {
          "base_uri": "https://localhost:8080/",
          "height": 74
        },
        "outputId": "af07c62d-f515-4de7-8650-fae72d00d622"
      },
      "source": [
        "from google.colab import drive\n",
        "drive.mount('/content/drive')"
      ],
      "execution_count": 16,
      "outputs": [
        {
          "output_type": "stream",
          "text": [
            "Drive already mounted at /content/drive; to attempt to forcibly remount, call drive.mount(\"/content/drive\", force_remount=True).\n"
          ],
          "name": "stdout"
        }
      ]
    },
    {
      "cell_type": "code",
      "metadata": {
        "id": "_11KBn7Epfxn",
        "colab_type": "code",
        "colab": {
          "base_uri": "https://localhost:8080/",
          "height": 139
        },
        "outputId": "5dec89ff-123e-4260-fbdc-51c8b5123b64"
      },
      "source": [
        "# You can use this function in your code to find the log of distance:\n",
        "df_gdi[\"Absolute Magnitude\"] = df_gdi[\"G\"]-5*np.log10(df_gdi[\"distance\"])+5\n"
      ],
      "execution_count": 17,
      "outputs": [
        {
          "output_type": "stream",
          "text": [
            "/usr/local/lib/python3.6/dist-packages/ipykernel_launcher.py:2: SettingWithCopyWarning: \n",
            "A value is trying to be set on a copy of a slice from a DataFrame.\n",
            "Try using .loc[row_indexer,col_indexer] = value instead\n",
            "\n",
            "See the caveats in the documentation: https://pandas.pydata.org/pandas-docs/stable/user_guide/indexing.html#returning-a-view-versus-a-copy\n",
            "  \n"
          ],
          "name": "stderr"
        }
      ]
    },
    {
      "cell_type": "markdown",
      "metadata": {
        "id": "66bzd67ipfxp",
        "colab_type": "text"
      },
      "source": [
        "### Your first task is to create a Color Magnitude Diagram for your star cluster\n",
        "You can use as many of the cells below as you need. You can add new cells with the \"+\" button."
      ]
    },
    {
      "cell_type": "code",
      "metadata": {
        "id": "oLj4hEStND25",
        "colab_type": "code",
        "colab": {}
      },
      "source": [
        "import matplotlib.colors as mpl\n",
        "import matplotlib.pyplot as plt\n",
        "cm = plt.cm.get_cmap(\"cividis_r\")\n",
        "abs = df_gdi[\"Absolute Magnitude\"]\n",
        "df_old = pd.read_csv(\"/content/drive/My Drive/Colab Notebooks/week 3/sample_class_star_data.csv\")"
      ],
      "execution_count": 18,
      "outputs": []
    },
    {
      "cell_type": "code",
      "metadata": {
        "id": "Q5rXuczQpfxq",
        "colab_type": "code",
        "colab": {}
      },
      "source": [
        "X_axis = df_gdi[\"G\"]-df_gdi[\"J\"]\n",
        "Temp = df_old[\"Temperature (K)\"]"
      ],
      "execution_count": 19,
      "outputs": []
    },
    {
      "cell_type": "markdown",
      "metadata": {
        "id": "YEv7-QSDULja",
        "colab_type": "text"
      },
      "source": [
        ""
      ]
    },
    {
      "cell_type": "code",
      "metadata": {
        "id": "NASmTxRTpfxu",
        "colab_type": "code",
        "colab": {
          "base_uri": "https://localhost:8080/",
          "height": 286
        },
        "outputId": "50132f86-9f00-45b7-ceab-f5c928dfe223"
      },
      "source": [
        "plt.scatter(X_axis, abs, c=abs, s=35, cmap=cm, norm=mpl.LogNorm())\n",
        "plt.gca().invert_yaxis()\n",
        "plt.scatter(1.48, 4.84, c='magenta', s=200, marker='*')\n",
        "plt.colorbar()"
      ],
      "execution_count": 20,
      "outputs": [
        {
          "output_type": "execute_result",
          "data": {
            "text/plain": [
              "<matplotlib.colorbar.Colorbar at 0x7f4220645710>"
            ]
          },
          "metadata": {
            "tags": []
          },
          "execution_count": 20
        },
        {
          "output_type": "display_data",
          "data": {
            "image/png": "[encoded data removed]",
            "text/plain": [
              "<Figure size 432x288 with 2 Axes>"
            ]
          },
          "metadata": {
            "tags": [],
            "needs_background": "light"
          }
        }
      ]
    },
    {
      "cell_type": "code",
      "metadata": {
        "id": "WkL3pYhOpfxw",
        "colab_type": "code",
        "colab": {
          "base_uri": "https://localhost:8080/",
          "height": 296
        },
        "outputId": "8351b940-d1d6-4af9-fddb-d12a71f509ad"
      },
      "source": [
        "fig,ax = plt.subplots()\n",
        "ax.scatter(X_axis, abs, c=abs, s=35, cmap=cm, norm=mpl.LogNorm())\n",
        "ax.set_xlabel(\"G-J\", fontsize = 10)\n",
        "ax.set_ylabel(\"Absolute Magnitude\", fontsize = 10)\n",
        "ax2 = ax.twinx()\n",
        "ax2.scatter(X_axis, abs, c=abs, s=35, cmap=cm, norm=mpl.LogNorm())"
      ],
      "execution_count": 22,
      "outputs": [
        {
          "output_type": "execute_result",
          "data": {
            "text/plain": [
              "<matplotlib.collections.PathCollection at 0x7f421ff8b2b0>"
            ]
          },
          "metadata": {
            "tags": []
          },
          "execution_count": 22
        },
        {
          "output_type": "display_data",
          "data": {
            "image/png": "[encoded data removed]",
            "text/plain": [
              "<Figure size 432x288 with 2 Axes>"
            ]
          },
          "metadata": {
            "tags": [],
            "needs_background": "light"
          }
        }
      ]
    },
    {
      "cell_type": "code",
      "metadata": {
        "id": "EWaGv109pfxy",
        "colab_type": "code",
        "colab": {}
      },
      "source": [
        ""
      ],
      "execution_count": null,
      "outputs": []
    },
    {
      "cell_type": "code",
      "metadata": {
        "id": "BhmpitgKpfx0",
        "colab_type": "code",
        "colab": {}
      },
      "source": [
        ""
      ],
      "execution_count": null,
      "outputs": []
    },
    {
      "cell_type": "code",
      "metadata": {
        "id": "F5I3F1Rnpfx2",
        "colab_type": "code",
        "colab": {}
      },
      "source": [
        ""
      ],
      "execution_count": null,
      "outputs": []
    },
    {
      "cell_type": "markdown",
      "metadata": {
        "id": "BgLYth7Xpfx4",
        "colab_type": "text"
      },
      "source": [
        "### Coding Challenge 1: Add the sun to your color magnitude diagram"
      ]
    },
    {
      "cell_type": "code",
      "metadata": {
        "id": "LlroU_R9pfx4",
        "colab_type": "code",
        "colab": {}
      },
      "source": [
        ""
      ],
      "execution_count": null,
      "outputs": []
    },
    {
      "cell_type": "markdown",
      "metadata": {
        "id": "_tG61iyepfx6",
        "colab_type": "text"
      },
      "source": [
        "### Coding Challenge 2: Add a colormap to your diagram"
      ]
    },
    {
      "cell_type": "code",
      "metadata": {
        "id": "M-_pH6SLpfx7",
        "colab_type": "code",
        "colab": {}
      },
      "source": [
        ""
      ],
      "execution_count": null,
      "outputs": []
    },
    {
      "cell_type": "markdown",
      "metadata": {
        "id": "IuWfhZKKpfx9",
        "colab_type": "text"
      },
      "source": [
        "### Coding Challenge 3: Create histograms for the absolute magnitude and color of your star cluster"
      ]
    },
    {
      "cell_type": "code",
      "metadata": {
        "id": "1uOX064Vpfx9",
        "colab_type": "code",
        "colab": {}
      },
      "source": [
        ""
      ],
      "execution_count": null,
      "outputs": []
    }
  ]
}