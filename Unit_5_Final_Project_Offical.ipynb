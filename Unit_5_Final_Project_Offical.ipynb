{
  "nbformat": 4,
  "nbformat_minor": 0,
  "metadata": {
    "colab": {
      "name": "Unit 5_Final Project Offical",
      "provenance": []
    },
    "kernelspec": {
      "name": "python3",
      "display_name": "Python 3"
    }
  },
  "cells": [
    {
      "cell_type": "code",
      "metadata": {
        "id": "d6DK6dz67IXT",
        "colab_type": "code",
        "colab": {}
      },
      "source": [
        "import pandas as pd \n",
        "import numpy as np \n",
        "import matplotlib.pyplot as plt"
      ],
      "execution_count": 4,
      "outputs": []
    },
    {
      "cell_type": "code",
      "metadata": {
        "id": "MY4hrV3w8YyM",
        "colab_type": "code",
        "colab": {}
      },
      "source": [
        "df = pd.read_csv(\"/content/drive/My Drive/Colab Notebooks/week 5/bird_dino_data.csv\") #the csv file that gives us the data for the measurements "
      ],
      "execution_count": 5,
      "outputs": []
    },
    {
      "cell_type": "code",
      "metadata": {
        "id": "ZkbBuBTr8gTJ",
        "colab_type": "code",
        "colab": {
          "base_uri": "https://localhost:8080/",
          "height": 34
        },
        "outputId": "51f90674-326a-4918-d396-1a2e48b16269"
      },
      "source": [
        "from google.colab import drive\n",
        "drive.mount('/content/drive')"
      ],
      "execution_count": 6,
      "outputs": [
        {
          "output_type": "stream",
          "text": [
            "Drive already mounted at /content/drive; to attempt to forcibly remount, call drive.mount(\"/content/drive\", force_remount=True).\n"
          ],
          "name": "stdout"
        }
      ]
    },
    {
      "cell_type": "code",
      "metadata": {
        "id": "g7oQ9w8p9vce",
        "colab_type": "code",
        "colab": {
          "base_uri": "https://localhost:8080/",
          "height": 221
        },
        "outputId": "653237b9-72be-4474-d972-ad02d65e63c2"
      },
      "source": [
        "df.head() #shows csv file "
      ],
      "execution_count": 7,
      "outputs": [
        {
          "output_type": "execute_result",
          "data": {
            "text/html": [
              "<div>\n",
              "<style scoped>\n",
              "    .dataframe tbody tr th:only-of-type {\n",
              "        vertical-align: middle;\n",
              "    }\n",
              "\n",
              "    .dataframe tbody tr th {\n",
              "        vertical-align: top;\n",
              "    }\n",
              "\n",
              "    .dataframe thead th {\n",
              "        text-align: right;\n",
              "    }\n",
              "</style>\n",
              "<table border=\"1\" class=\"dataframe\">\n",
              "  <thead>\n",
              "    <tr style=\"text-align: right;\">\n",
              "      <th></th>\n",
              "      <th>Species ID</th>\n",
              "      <th>Bird vs Dino</th>\n",
              "      <th>Body Mass (kg)</th>\n",
              "      <th>Olfactory bulbs (cm3)</th>\n",
              "      <th>Cerebrum (cm3)</th>\n",
              "      <th>Optic Lobes (cm3)</th>\n",
              "      <th>Cerebellum (cm3)</th>\n",
              "      <th>Brain Stem (cm3)</th>\n",
              "      <th>Brain Volume (cm3)</th>\n",
              "    </tr>\n",
              "  </thead>\n",
              "  <tbody>\n",
              "    <tr>\n",
              "      <th>0</th>\n",
              "      <td>1</td>\n",
              "      <td>B</td>\n",
              "      <td>0.02</td>\n",
              "      <td>0.009</td>\n",
              "      <td>1.53</td>\n",
              "      <td>0.20</td>\n",
              "      <td>0.16</td>\n",
              "      <td>0.06</td>\n",
              "      <td>1.96</td>\n",
              "    </tr>\n",
              "    <tr>\n",
              "      <th>1</th>\n",
              "      <td>2</td>\n",
              "      <td>B</td>\n",
              "      <td>1.26</td>\n",
              "      <td>0.006</td>\n",
              "      <td>16.81</td>\n",
              "      <td>2.84</td>\n",
              "      <td>1.70</td>\n",
              "      <td>0.68</td>\n",
              "      <td>22.04</td>\n",
              "    </tr>\n",
              "    <tr>\n",
              "      <th>2</th>\n",
              "      <td>3</td>\n",
              "      <td>B</td>\n",
              "      <td>2.18</td>\n",
              "      <td>0.026</td>\n",
              "      <td>11.08</td>\n",
              "      <td>1.95</td>\n",
              "      <td>0.89</td>\n",
              "      <td>1.15</td>\n",
              "      <td>15.10</td>\n",
              "    </tr>\n",
              "    <tr>\n",
              "      <th>3</th>\n",
              "      <td>4</td>\n",
              "      <td>D</td>\n",
              "      <td>0.25</td>\n",
              "      <td>0.050</td>\n",
              "      <td>0.41</td>\n",
              "      <td>0.16</td>\n",
              "      <td>0.09</td>\n",
              "      <td>0.12</td>\n",
              "      <td>0.83</td>\n",
              "    </tr>\n",
              "    <tr>\n",
              "      <th>4</th>\n",
              "      <td>5</td>\n",
              "      <td>B</td>\n",
              "      <td>0.01</td>\n",
              "      <td>0.003</td>\n",
              "      <td>1.57</td>\n",
              "      <td>0.20</td>\n",
              "      <td>0.34</td>\n",
              "      <td>0.08</td>\n",
              "      <td>2.19</td>\n",
              "    </tr>\n",
              "  </tbody>\n",
              "</table>\n",
              "</div>"
            ],
            "text/plain": [
              "   Species ID Bird vs Dino  ...  Brain Stem (cm3)  Brain Volume (cm3)\n",
              "0           1            B  ...              0.06                1.96\n",
              "1           2            B  ...              0.68               22.04\n",
              "2           3            B  ...              1.15               15.10\n",
              "3           4            D  ...              0.12                0.83\n",
              "4           5            B  ...              0.08                2.19\n",
              "\n",
              "[5 rows x 9 columns]"
            ]
          },
          "metadata": {
            "tags": []
          },
          "execution_count": 7
        }
      ]
    },
    {
      "cell_type": "code",
      "metadata": {
        "id": "n0QhHh1E9v2h",
        "colab_type": "code",
        "colab": {}
      },
      "source": [
        "df[\"Body Mass (cm3)\"] = df[\"Body Mass (kg)\"] *1000 #converted kg to grams bc that is the measuremnt for everything else and we made things  more effiecnt by addig a new column \n",
        "#create funtion(1) that easily gives you the ratios for birds and dinos \n",
        "#find average brain volume/body mass, average cerebrum/ brain volume\n",
        "def ratios(animal, m): #m stands for measurement, so it can eitheir be the cerebrum or body mass \n",
        "  df_new = df.loc[df[\"Bird vs Dino\"] == animal].copy() #loacting bird V. Dino column and seeing if the animal put i  the funcion is equal to it #.copy() makes it a showllow copy, so the .loc method does not make chnages to the original dataframe, we also made a new datat frame, so thinsg could be more oragnized \n",
        "  if m == \"Cerebrum (cm3)\":\n",
        "      df_new[\"ratio_cerebrum\"] = df_new[\"Cerebrum (cm3)\"]/df_new[\"Brain Volume (cm3)\"] #adds all of the values to a new coloumn\n",
        "      new_column = df_new[\"ratio_cerebrum\"] # we set the column equalto a varible, so that we can return this varibale\n",
        "  if m == \"Body Mass (cm3)\":\n",
        "      df_new[\"ratio_bm\"] = df_new[\"Brain Volume (cm3)\"]/df_new[\"Body Mass (cm3)\"] #ratio_bm refers to the ratio for brain volume to body mass (cm3\n",
        " #ratio_bm is the brain volume to body mas (cm3) ratio\n",
        "      new_column =  df_new[\"ratio_bm\"]\n",
        "  return new_column.mean() "
      ],
      "execution_count": 8,
      "outputs": []
    },
    {
      "cell_type": "code",
      "metadata": {
        "id": "xalvBA8QB_c5",
        "colab_type": "code",
        "colab": {
          "base_uri": "https://localhost:8080/",
          "height": 51
        },
        "outputId": "70499cb4-8ea9-4943-e615-29a25f3b690f"
      },
      "source": [
        "print(ratios(\"B\",\"Cerebrum (cm3)\")) \n",
        "Ratio_B_c = ratios(\"B\",\"Cerebrum (cm3)\") #putting this info in a varible allows us to easily use it in the next function \n",
        "#Ratio_B_c refers to the average Cerebrum to brain volume ratio for birds\n",
        "print(ratios(\"D\",\"Cerebrum (cm3)\")) \n",
        "Ratio_D_c = ratios(\"D\",\"Cerebrum (cm3)\")\n",
        "#Ratio_D_c refers to the average Cerebrum to brain volume ratio for dinos"
      ],
      "execution_count": 9,
      "outputs": [
        {
          "output_type": "stream",
          "text": [
            "0.6649507745281171\n",
            "0.4695339305450895\n"
          ],
          "name": "stdout"
        }
      ]
    },
    {
      "cell_type": "code",
      "metadata": {
        "id": "Vmqo9mbUEzHA",
        "colab_type": "code",
        "colab": {
          "base_uri": "https://localhost:8080/",
          "height": 51
        },
        "outputId": "6c7792c8-7d3b-4a7d-aed0-c25f9fe5f4f9"
      },
      "source": [
        "print(ratios(\"B\",\"Body Mass (cm3)\")) \n",
        "Ratio_B_bm = ratios(\"B\",\"Body Mass (cm3)\") #putting this info in a varible allows us to easily use it in the next function \n",
        "#Ratio_B_bm refers to the averagebrain volume to body mass ratio\n",
        "print(ratios(\"D\",\"Body Mass (cm3)\")) \n",
        "Ratio_D_bm = ratios(\"D\",\"Body Mass (cm3)\")\n",
        "#Ratio_D_bm refers to the average brain volume to body mass ratio"
      ],
      "execution_count": 10,
      "outputs": [
        {
          "output_type": "stream",
          "text": [
            "0.047832283820074345\n",
            "0.0016106496539985663\n"
          ],
          "name": "stdout"
        }
      ]
    },
    {
      "cell_type": "code",
      "metadata": {
        "id": "4vcSbe9uFL1F",
        "colab_type": "code",
        "colab": {}
      },
      "source": [
        "  def dif(c, fl, bv):#c= cerebrum (cm3) lengthm,  fl= femur length, bv= brain volume (cm3)\n",
        "    bm = 10**(3.1854*np.log10(fl))-3.184 # equation to convert fl to bm (cm3) in grams \n",
        "    brain_c = c/bv # the cerebrum to brain volume ratio for whatever is put into the fucntion \n",
        "    Brain_bmr = bv/bm #this is the ratio of brain volume to body mass\n",
        "    if (brain_c - Ratio_B_c) > (brain_c - Ratio_D_c) :  \n",
        "      closest_1 = \"This animal brain is most likely from a non-avian dinosaur\"\n",
        "      ans = closest_1\n",
        "      #(Brain_bmr - Ratio_B_bm)< (Brain_bmr - Ratio_D_bm): you do not need these because these conditions ar focused on cerebrum to brain volume\n",
        "    elif (brain_c - Ratio_B_c) < (brain_c - Ratio_D_c): \n",
        "     closest_2 = \"This animal brain is most likely from a bird\"\n",
        "     #((Brain_bmr - Ratio_B_bm)> (bBrain_bmr - Ratio_D_bm): \n",
        "     ans = closest_2 \n",
        "    return ans"
      ],
      "execution_count": 11,
      "outputs": []
    },
    {
      "cell_type": "code",
      "metadata": {
        "id": "JQ_Rn5OvLf6L",
        "colab_type": "code",
        "colab": {
          "base_uri": "https://localhost:8080/",
          "height": 34
        },
        "outputId": "c99e94bc-82e8-41e5-fafd-37624644dec8"
      },
      "source": [
        "print(dif(1.57, 21, 2.2)) \n",
        "\n"
      ],
      "execution_count": 12,
      "outputs": [
        {
          "output_type": "stream",
          "text": [
            "This animal brain is most likely from a bird\n"
          ],
          "name": "stdout"
        }
      ]
    }
  ]
}