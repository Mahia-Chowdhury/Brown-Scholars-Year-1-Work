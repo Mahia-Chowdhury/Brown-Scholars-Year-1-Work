{
  "nbformat": 4,
  "nbformat_minor": 0,
  "metadata": {
    "kernelspec": {
      "display_name": "Python 3",
      "language": "python",
      "name": "python3"
    },
    "language_info": {
      "codemirror_mode": {
        "name": "ipython",
        "version": 3
      },
      "file_extension": ".py",
      "mimetype": "text/x-python",
      "name": "python",
      "nbconvert_exporter": "python",
      "pygments_lexer": "ipython3",
      "version": "3.7.6"
    },
    "colab": {
      "name": "Unit2_Day3_TempMap.ipynb",
      "provenance": [],
      "collapsed_sections": []
    }
  },
  "cells": [
    {
      "cell_type": "markdown",
      "metadata": {
        "id": "mxUKPed7Iyx_",
        "colab_type": "text"
      },
      "source": [
        "# Creating a Sea Temperature Color Map\n",
        "\n",
        "In this notebook you'll learn how to adapt existing code to fit your particular data set. You won't need to use all of these functions again, but you should understand how they work.\n",
        "\n",
        "**Reminder: To run the code in a Jupyter Notebook cell, click inside the cell and press \"shift\" and \"return\" on your keyboard at the same time.**"
      ]
    },
    {
      "cell_type": "markdown",
      "metadata": {
        "id": "U2Pj3zSyIyyB",
        "colab_type": "text"
      },
      "source": [
        "Let's start out by importing all the libraries we'll need:"
      ]
    },
    {
      "cell_type": "code",
      "metadata": {
        "id": "fMkPPIFQIyyD",
        "colab_type": "code",
        "colab": {}
      },
      "source": [
        "import matplotlib.pyplot as plt\n",
        "import numpy as np\n",
        "import csv # This is a library that allows us to work with CSV files even if we're not using pandas"
      ],
      "execution_count": 1,
      "outputs": []
    },
    {
      "cell_type": "code",
      "metadata": {
        "id": "B-HmY2GnI32b",
        "colab_type": "code",
        "colab": {
          "base_uri": "https://localhost:8080/",
          "height": 149
        },
        "outputId": "d5d2dae4-f7f8-49c9-e38e-34b827c89896"
      },
      "source": [
        "from google.colab import drive\n",
        "drive.mount('/content/drive')"
      ],
      "execution_count": 2,
      "outputs": [
        {
          "output_type": "stream",
          "text": [
            "Mounted at /content/drive\n"
          ],
          "name": "stdout"
        }
      ]
    },
    {
      "cell_type": "markdown",
      "metadata": {
        "id": "2f0xUwToIyyK",
        "colab_type": "text"
      },
      "source": [
        "This code opens the data file, create a CSV reader object to read the data, and converts it into a list or lists using the built in Python list() function."
      ]
    },
    {
      "cell_type": "code",
      "metadata": {
        "id": "bBgTCTvCHNTV",
        "colab_type": "code",
        "colab": {}
      },
      "source": [
        ""
      ],
      "execution_count": 2,
      "outputs": []
    },
    {
      "cell_type": "code",
      "metadata": {
        "id": "U66Y6fByIyyL",
        "colab_type": "code",
        "colab": {}
      },
      "source": [
        "csvFile = open(\"/content/drive/My Drive/Colab Notebooks/SeaTemp12_2002 (1).csv\", 'r') #'r' means we want to read\n",
        "csvReader = csv.reader(csvFile, delimiter=',')\n",
        "data_lists = list(csvReader)#--> puts it in rows and colomuns "
      ],
      "execution_count": 3,
      "outputs": []
    },
    {
      "cell_type": "markdown",
      "metadata": {
        "id": "NiXVo3GfIyyP",
        "colab_type": "text"
      },
      "source": [
        "Let's take a look at the first item in data_lists:"
      ]
    },
    {
      "cell_type": "code",
      "metadata": {
        "id": "KWVWCVueIyyQ",
        "colab_type": "code",
        "colab": {
          "base_uri": "https://localhost:8080/",
          "height": 114
        },
        "outputId": "df650c99-d79e-4cae-a087-95487e9650bc"
      },
      "source": [
        "print(data_lists[0]) #first row, items in it --> lists in a list "
      ],
      "execution_count": 4,
      "outputs": [
        {
          "output_type": "stream",
          "text": [
            "['99999', '99999', '99999', '99999', '99999', '99999', '99999', '99999', '99999', '99999', '99999', '99999', '99999', '99999', '99999', '99999', '99999', '99999', '99999', '99999', '99999', '99999', '99999', '99999', '99999', '99999', '99999', '99999', '99999', '99999', '99999', '99999', '99999', '99999', '99999', '99999', '99999', '99999', '99999', '99999', '99999', '99999', '99999', '99999', '99999', '99999', '99999', '99999', '99999', '99999', '99999', '99999', '99999', '99999', '99999', '99999', '99999', '99999', '99999', '99999', '99999', '99999', '99999', '99999', '99999', '99999', '99999', '99999', '99999', '99999', '99999', '99999', '99999', '99999', '99999', '99999', '99999', '99999', '99999', '99999', '99999', '99999', '99999', '99999', '99999', '99999', '99999', '99999', '99999', '99999', '99999', '99999', '99999', '99999', '99999', '99999', '99999', '99999', '99999', '99999', '99999', '99999', '99999', '99999', '99999', '99999', '99999', '99999', '99999', '99999', '99999', '99999', '99999', '99999', '99999', '99999', '99999', '99999', '99999', '99999', '99999', '99999', '99999', '99999', '99999', '99999', '99999', '99999', '99999', '99999', '99999', '99999', '99999', '99999', '99999', '99999', '99999', '99999', '99999', '99999', '99999', '99999', '99999', '99999', '99999', '99999', '99999', '99999', '99999', '99999', '99999', '99999', '99999', '99999', '99999', '99999', '99999', '99999', '99999', '99999', '99999', '99999', '99999', '99999', '99999', '99999', '99999', '99999', '99999', '99999', '99999', '99999', '99999', '99999', '99999', '99999', '99999', '99999', '99999', '99999', '99999', '99999', '99999', '99999', '99999', '99999', '99999', '99999', '99999', '99999', '99999', '99999', '99999', '99999', '99999', '99999', '99999', '99999', '99999', '99999', '99999', '99999', '99999', '99999', '99999', '99999', '99999', '99999', '99999', '99999', '99999', '99999', '99999', '99999', '99999', '99999', '99999', '99999', '99999', '99999', '99999', '99999', '99999', '99999', '99999', '99999', '99999', '99999', '99999', '99999', '99999', '99999', '99999', '99999', '99999', '99999', '99999', '99999', '99999', '99999', '99999', '99999', '99999', '99999', '99999', '99999', '99999', '99999', '99999', '99999', '99999', '99999', '99999', '99999', '99999', '99999', '99999', '99999', '99999', '99999', '99999', '99999', '99999', '99999', '99999', '99999', '99999', '99999', '99999', '99999', '99999', '99999', '99999', '99999', '99999', '99999', '99999', '99999', '99999', '99999', '99999', '99999', '99999', '99999', '99999', '99999', '99999', '99999', '99999', '99999', '99999', '99999', '99999', '99999', '99999', '99999', '99999', '99999', '99999', '99999', '99999', '99999', '99999', '99999', '99999', '99999', '99999', '99999', '99999', '99999', '99999', '99999', '99999', '99999', '99999', '99999', '99999', '99999', '99999', '99999', '99999', '99999', '99999', '99999', '99999', '99999', '99999', '99999', '99999', '99999', '99999', '99999', '99999', '99999', '99999', '99999', '99999', '99999', '99999', '99999', '99999', '99999', '99999', '99999', '99999', '99999', '99999', '99999', '99999', '99999', '99999', '99999', '99999', '99999', '99999', '99999', '99999', '99999', '99999', '99999', '99999', '99999', '99999', '99999', '99999', '99999', '99999', '99999', '99999', '99999', '99999', '99999', '99999', '99999', '99999', '99999', '99999', '99999', '99999', '99999', '99999', '99999', '99999', '99999', '99999', '99999', '99999', '99999', '99999', '99999', '99999', '99999', '99999', '99999', '99999', '99999', '99999', '99999', '99999', '99999', '99999', '99999', '99999', '99999', '99999', '99999', '99999', '99999', '99999', '99999', '99999', '99999', '99999', '99999', '99999', '99999', '99999', '99999', '99999', '99999', '99999', '99999', '99999', '99999', '99999', '99999', '99999', '99999', '99999', '99999', '99999', '99999', '99999', '99999', '99999', '99999', '99999', '99999', '99999', '99999', '99999', '99999', '99999', '99999', '99999', '99999', '99999', '99999', '99999', '99999', '99999', '99999', '99999', '99999', '99999', '99999', '99999', '99999', '99999', '99999', '99999', '99999', '99999', '99999', '99999', '99999', '99999', '99999', '99999', '99999', '99999', '99999', '99999', '99999', '99999', '99999', '99999', '99999', '99999', '99999', '99999', '99999', '99999', '99999', '99999', '99999', '99999', '99999', '99999', '99999', '99999', '99999', '99999', '99999', '99999', '99999', '99999', '99999', '99999', '99999', '99999', '99999', '99999', '99999', '99999', '99999', '99999', '99999', '99999', '99999', '99999', '99999', '99999', '99999', '99999', '99999', '99999', '99999', '99999', '99999', '99999', '99999', '99999', '99999', '99999', '99999', '99999', '99999', '99999', '99999', '99999', '99999', '99999', '99999', '99999', '99999', '99999', '99999', '99999', '99999', '99999', '99999', '99999', '99999', '99999', '99999', '99999', '99999', '99999', '99999', '99999', '99999', '99999', '99999', '99999', '99999', '99999', '99999', '99999', '99999', '99999', '99999', '99999', '99999', '99999', '99999', '99999', '99999', '99999', '99999', '99999', '99999', '99999', '99999', '99999', '99999', '99999', '99999', '99999', '99999', '99999', '99999', '99999', '99999', '99999', '99999', '99999', '99999', '99999', '99999', '99999', '99999', '99999', '99999', '99999', '99999', '99999', '99999', '99999', '99999', '99999', '99999', '99999', '99999', '99999', '99999', '99999', '99999', '99999', '99999', '99999', '99999', '99999', '99999', '99999', '99999', '99999', '99999', '99999', '99999', '99999', '99999', '99999', '99999', '99999', '99999', '99999', '99999', '99999', '99999', '99999', '99999', '99999', '99999', '99999', '99999', '99999', '99999', '99999', '99999', '99999', '99999', '99999', '99999', '99999', '99999', '99999', '99999', '99999', '99999', '99999', '99999', '99999', '99999', '99999', '99999', '99999', '99999', '99999', '99999', '99999', '99999', '99999', '99999', '99999', '99999', '99999', '99999', '99999', '99999', '99999', '99999', '99999', '99999', '99999', '99999', '99999', '99999', '99999', '99999', '99999', '99999', '99999', '99999', '99999', '99999', '99999', '99999', '99999', '99999', '99999', '99999', '99999', '99999', '99999', '99999', '99999', '99999', '99999', '99999', '99999', '99999', '99999', '99999', '99999', '99999', '99999', '99999', '99999', '99999', '99999', '99999', '99999', '99999', '99999', '99999', '99999', '99999', '99999', '99999']\n"
          ],
          "name": "stdout"
        }
      ]
    },
    {
      "cell_type": "markdown",
      "metadata": {
        "id": "o00SUX5GIyyT",
        "colab_type": "text"
      },
      "source": [
        "That was a lot of data! Let's use the len() function to find out how many data points there were in **just one row**:"
      ]
    },
    {
      "cell_type": "code",
      "metadata": {
        "id": "H4jg022jIyyU",
        "colab_type": "code",
        "colab": {
          "base_uri": "https://localhost:8080/",
          "height": 34
        },
        "outputId": "876696cb-cdaa-4ca6-e029-660d22c93ad6"
      },
      "source": [
        "print(len(data_lists[0]))#width"
      ],
      "execution_count": 5,
      "outputs": [
        {
          "output_type": "stream",
          "text": [
            "720\n"
          ],
          "name": "stdout"
        }
      ]
    },
    {
      "cell_type": "markdown",
      "metadata": {
        "id": "sAzRFII2IyyY",
        "colab_type": "text"
      },
      "source": [
        "Let's find out how many of those there are! Use the len() function:"
      ]
    },
    {
      "cell_type": "code",
      "metadata": {
        "id": "vd_31stXIyyY",
        "colab_type": "code",
        "colab": {
          "base_uri": "https://localhost:8080/",
          "height": 34
        },
        "outputId": "2462d8bf-b739-4148-ab48-e2d1a68f8b00"
      },
      "source": [
        "print(len(data_lists))#height"
      ],
      "execution_count": 6,
      "outputs": [
        {
          "output_type": "stream",
          "text": [
            "360\n"
          ],
          "name": "stdout"
        }
      ]
    },
    {
      "cell_type": "markdown",
      "metadata": {
        "id": "5BPufa9ZIyya",
        "colab_type": "text"
      },
      "source": [
        "The number of items in one row is also the width of the image we are creating. The number of rows is the height. Let's assign these values to variable so we can use them later:"
      ]
    },
    {
      "cell_type": "code",
      "metadata": {
        "id": "6vp0XW3BIyya",
        "colab_type": "code",
        "colab": {}
      },
      "source": [
        "width = 720\n",
        "height = 360"
      ],
      "execution_count": 7,
      "outputs": []
    },
    {
      "cell_type": "markdown",
      "metadata": {
        "id": "OaGViNBVIyyc",
        "colab_type": "text"
      },
      "source": [
        "Now we're going to use a new numpy function that creates an empty matrix. A matrix is like a grid made up of lists."
      ]
    },
    {
      "cell_type": "code",
      "metadata": {
        "id": "28tqnDOUIyyc",
        "colab_type": "code",
        "colab": {}
      },
      "source": [
        "grid = np.empty([height, width, 3], dtype=np.uint8) \n",
        "# We have to specify the height and width of the matrix along with the number of items \n",
        "# we can put in each spot on the grid. We want 3 because each color value has 3 numbers.\n",
        "# Finally, we specify the type of data we will put into the matrix."
      ],
      "execution_count": 8,
      "outputs": []
    },
    {
      "cell_type": "markdown",
      "metadata": {
        "id": "nKiEYDFtIyyf",
        "colab_type": "text"
      },
      "source": [
        "Now we're going to use some code you're used to: \"for loops\" and conditionals! But we are making things a little more complicated using the enumerate() function. Using enumerate(), you keep track of both the index and the value in a \"for loop\"."
      ]
    },
    {
      "cell_type": "code",
      "metadata": {
        "id": "aPTd37LPIyyf",
        "colab_type": "code",
        "colab": {}
      },
      "source": [
        "all_values = [] # We will fill in this empty list with all the data values as we go\n",
        "#C = the values of colomuns A, B, C --> A = 0, and then count #R is the ROW number, but like all, row 1 = 0\n",
        "#r will go all of the way to r =720, and c will do to 360 --> eitheir indices of each row or column\n",
        "for r, row in enumerate(data_lists): #not 9999 = SEAN TEMP--\n",
        "#all_values is a filtered list for all sea values\n",
        "    for c, value in enumerate(row):\n",
        "      #warmer colors = red, cooler = blue\n",
        "        if float(value) < 99999: #tells us if it is sea temp or land 99999= lamd temp\n",
        "            all_values.append(float(value)) # This is where we fill in the list with all data values\n",
        "        if float(value) <= -2: #add more colors\n",
        "            grid[r, c] = [23, 30, 92]\n",
        "        elif float(value) <= -5:\n",
        "            grid[r, c] = [22, 38, 82]\n",
        "        elif float(value) <= 0:\n",
        "            grid[r, c] = [22, 32, 79]\n",
        "        elif float(value) <= 2:\n",
        "            grid[r, c] = [28, 90, 87]\n",
        "        elif float(value) <= 5:\n",
        "            grid[r, c] = [92, 30, 38]\n",
        "        elif float(value) <= 35:\n",
        "            grid[r, c] = [22, 32, 93] #only have one color that represents many colors\n",
        "        else:\n",
        "            grid[r, c] = [0,0,0]"
      ],
      "execution_count": 9,
      "outputs": []
    },
    {
      "cell_type": "markdown",
      "metadata": {
        "id": "PxKMbLzGIyyi",
        "colab_type": "text"
      },
      "source": [
        "Now that we have all of our data in a single list, we can find the max and the min:\n",
        "Hint: Use this information to help you adjust your conditionals!"
      ]
    },
    {
      "cell_type": "code",
      "metadata": {
        "id": "sErbc-jsIyyi",
        "colab_type": "code",
        "colab": {
          "base_uri": "https://localhost:8080/",
          "height": 51
        },
        "outputId": "593bce94-1d3d-466f-c113-58d287117d2c"
      },
      "source": [
        "print(min(all_values))\n",
        "print(max(all_values))"
      ],
      "execution_count": 10,
      "outputs": [
        {
          "output_type": "stream",
          "text": [
            "-2.0\n",
            "35.0\n"
          ],
          "name": "stdout"
        }
      ]
    },
    {
      "cell_type": "markdown",
      "metadata": {
        "id": "lOuGkfhiIyyk",
        "colab_type": "text"
      },
      "source": [
        "Now it's time to use matplotlib to show our image! We already imported the library, so we can get right to it:"
      ]
    },
    {
      "cell_type": "code",
      "metadata": {
        "id": "1MB9cA-TIyyk",
        "colab_type": "code",
        "colab": {
          "base_uri": "https://localhost:8080/",
          "height": 214
        },
        "outputId": "9a4afd8a-e3a4-4f4d-bd9f-ee40ee29368b"
      },
      "source": [
        "plt.title(\"Global sea temperature in Celsius\")\n",
        "plt.imshow(grid)\n",
        "plt.axis('off')\n",
        "plt.savefig(\"Land_temperature.png\",dpi = 1000)\n",
        "plt.show()"
      ],
      "execution_count": 11,
      "outputs": [
        {
          "output_type": "display_data",
          "data": {
            "image/png": "[encoded data removed]",
            "text/plain": [
              "<Figure size 432x288 with 1 Axes>"
            ]
          },
          "metadata": {
            "tags": [],
            "needs_background": "light"
          }
        }
      ]
    },
    {
      "cell_type": "markdown",
      "metadata": {
        "id": "0pOvmn9TIyym",
        "colab_type": "text"
      },
      "source": [
        "## Coding Challenge:\n",
        "Change the code so that you create a map for the sea temperature in 2016."
      ]
    },
    {
      "cell_type": "code",
      "metadata": {
        "id": "278R_IBGIyyn",
        "colab_type": "code",
        "colab": {}
      },
      "source": [
        ""
      ],
      "execution_count": 11,
      "outputs": []
    }
  ]
}